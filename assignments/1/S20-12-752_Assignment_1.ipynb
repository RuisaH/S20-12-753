{
 "cells": [
  {
   "cell_type": "markdown",
   "metadata": {},
   "source": [
    "# 12-752: Data-Driven Building Energy Management\n",
    "## Spring 2020, Carnegie Mellon University\n",
    "\n",
    "## Assignment \\#1\n",
    "\n",
    "\n",
    "\n",
    "### Task 1 [0%]: Making sure everything is installed correctly\n",
    "Please double click the code cell below and click 'Cell' -> 'Run Cells' in the drop-down bar above, or if you prefer to use the keyboard, hit Shift + Enter to run the selected cell.\n",
    "\n",
    "You should get an output similar to this (the version numbers should be the same):\n",
    "```\n",
    "Python version:\n",
    "3.7.6 (default, Jan  8 2020, 13:42:34) \n",
    "[Clang 4.0.1 (tags/RELEASE_401/final)]\n",
    "Numpy version:\n",
    "1.18.1\n",
    "Sklearn version:\n",
    "0.22.1\n",
    "```"
   ]
  },
  {
   "cell_type": "code",
   "execution_count": 1,
   "metadata": {},
   "outputs": [
    {
     "name": "stdout",
     "output_type": "stream",
     "text": [
      "Python version:\n",
      "3.7.6 (default, Jan  8 2020, 13:42:34) \n",
      "[Clang 4.0.1 (tags/RELEASE_401/final)]\n",
      "Numpy version:\n",
      "1.18.1\n",
      "Sklearn version:\n",
      "0.22.1\n"
     ]
    }
   ],
   "source": [
    "%matplotlib inline \n",
    "import numpy as np\n",
    "import matplotlib.pyplot as plt\n",
    "\n",
    "import sys\n",
    "print('Python version:')\n",
    "print(sys.version)\n",
    "print('Numpy version:')\n",
    "print(np.__version__)\n",
    "import sklearn\n",
    "print('Sklearn version:')\n",
    "print(sklearn.__version__)"
   ]
  },
  {
   "cell_type": "markdown",
   "metadata": {},
   "source": [
    "# Short Introduction to Python and Jupyter\n",
    "\n",
    "As we discussed in the previous version of this assignment, Jupyter notebooks consist of cells. This cell is a Markdown cell. Try double-clicking this cell. You can write pretty text and even Latex is supported!\n",
    "\n",
    "Another short Latex example: $x \\frac{1+x}{(1-x)^3} = \\sum_{n=0}^{\\infty}{n^2 x^n}$\n",
    "\n",
    "\n",
    "### Task \\#2 [5%]: Quick exercise\n",
    "Just like we did in the F17 version of the assignmeent, create a new cell under this cell and change the cell type to 'Markdown'. Now make the cell display the formula for the Fourier transform (https://en.wikipedia.org/wiki/Fourier_transform) in Latex. Do not forget to run the cell you just created."
   ]
  },
  {
   "cell_type": "markdown",
   "metadata": {},
   "source": [
    "**From this point on, we will assume that you have gone through Assignment \\#1 from Fall 2017 and understand most (if not all) of it.**"
   ]
  },
  {
   "cell_type": "markdown",
   "metadata": {},
   "source": [
    "### Task \\#3 [10%]: Another quick exercise\n",
    "Create a cell under this. Make sure the type of the cell is 'Code'.\n",
    "Compute the square root of sum of 1 to 20 and print it to the console. *Hint: you'll need to know about np.sqrt*"
   ]
  },
  {
   "cell_type": "code",
   "execution_count": 2,
   "metadata": {},
   "outputs": [
    {
     "name": "stdout",
     "output_type": "stream",
     "text": [
      "sqrt(x, /, out=None, *, where=True, casting='same_kind', order='K', dtype=None, subok=True[, signature, extobj])\n",
      "\n",
      "Return the non-negative square-root of an array, element-wise.\n",
      "\n",
      "Parameters\n",
      "----------\n",
      "x : array_like\n",
      "    The values whose square-roots are required.\n",
      "out : ndarray, None, or tuple of ndarray and None, optional\n",
      "    A location into which the result is stored. If provided, it must have\n",
      "    a shape that the inputs broadcast to. If not provided or None,\n",
      "    a freshly-allocated array is returned. A tuple (possible only as a\n",
      "    keyword argument) must have length equal to the number of outputs.\n",
      "where : array_like, optional\n",
      "    This condition is broadcast over the input. At locations where the\n",
      "    condition is True, the `out` array will be set to the ufunc result.\n",
      "    Elsewhere, the `out` array will retain its original value.\n",
      "    Note that if an uninitialized `out` array is created via the default\n",
      "    ``out=None``, locations within it where the condition is False will\n",
      "    remain uninitialized.\n",
      "**kwargs\n",
      "    For other keyword-only arguments, see the\n",
      "    :ref:`ufunc docs <ufuncs.kwargs>`.\n",
      "\n",
      "Returns\n",
      "-------\n",
      "y : ndarray\n",
      "    An array of the same shape as `x`, containing the positive\n",
      "    square-root of each element in `x`.  If any element in `x` is\n",
      "    complex, a complex array is returned (and the square-roots of\n",
      "    negative reals are calculated).  If all of the elements in `x`\n",
      "    are real, so is `y`, with negative elements returning ``nan``.\n",
      "    If `out` was provided, `y` is a reference to it.\n",
      "    This is a scalar if `x` is a scalar.\n",
      "\n",
      "See Also\n",
      "--------\n",
      "lib.scimath.sqrt\n",
      "    A version which returns complex numbers when given negative reals.\n",
      "\n",
      "Notes\n",
      "-----\n",
      "*sqrt* has--consistent with common convention--as its branch cut the\n",
      "real \"interval\" [`-inf`, 0), and is continuous from above on it.\n",
      "A branch cut is a curve in the complex plane across which a given\n",
      "complex function fails to be continuous.\n",
      "\n",
      "Examples\n",
      "--------\n",
      ">>> np.sqrt([1,4,9])\n",
      "array([ 1.,  2.,  3.])\n",
      "\n",
      ">>> np.sqrt([4, -1, -3+4J])\n",
      "array([ 2.+0.j,  0.+1.j,  1.+2.j])\n",
      "\n",
      ">>> np.sqrt([4, -1, np.inf])\n",
      "array([ 2., nan, inf])\n"
     ]
    }
   ],
   "source": [
    "np.info(np.sqrt) #This is yet another way of getting information on, in this case, numpy methods/functions"
   ]
  },
  {
   "cell_type": "code",
   "execution_count": 3,
   "metadata": {},
   "outputs": [
    {
     "name": "stdout",
     "output_type": "stream",
     "text": [
      "14.491376746189438\n"
     ]
    }
   ],
   "source": [
    "# Your code goes here"
   ]
  },
  {
   "cell_type": "markdown",
   "metadata": {},
   "source": [
    "# Plotting\n",
    "Jupyer notebooks allow you to interactively explore data. Let's continue with the sine-wave idea, but twist it up a bit."
   ]
  },
  {
   "cell_type": "code",
   "execution_count": 4,
   "metadata": {},
   "outputs": [
    {
     "data": {
      "text/plain": [
       "[<matplotlib.lines.Line2D at 0x81bfbcb10>]"
      ]
     },
     "execution_count": 4,
     "metadata": {},
     "output_type": "execute_result"
    },
    {
     "data": {
      "image/png": "[encoded data removed]",
      "text/plain": [
       "<Figure size 432x288 with 1 Axes>"
      ]
     },
     "metadata": {
      "needs_background": "light"
     },
     "output_type": "display_data"
    }
   ],
   "source": [
    "x = np.arange(0, 2*np.pi, 2*np.pi/80.0)\n",
    "y = np.sin(x)\n",
    "\n",
    "# Some additional code will generate the plot below"
   ]
  },
  {
   "cell_type": "markdown",
   "metadata": {},
   "source": [
    "### Task \\#4 [10%]: Plotting exercise\n",
    "Use the matplotlib library to create a polar plot (i.e., using polar coordinates) of three periods of a cosine-wave in the cell below. To be clear, when generating that plot, we are simply assuming that $\\theta$ (the angle) is simply the value going into the cosine function, and the radius ($r$) is the cosine of that value.  Also, add a title to your plot. You can name labels and title whatever you want. *Hint: plt.title will be your friend*."
   ]
  },
  {
   "cell_type": "code",
   "execution_count": 5,
   "metadata": {},
   "outputs": [
    {
     "data": {
      "image/png": "[encoded data removed]",
      "text/plain": [
       "<Figure size 432x288 with 1 Axes>"
      ]
     },
     "metadata": {
      "needs_background": "light"
     },
     "output_type": "display_data"
    }
   ],
   "source": [
    "# Your code goes here"
   ]
  },
  {
   "cell_type": "markdown",
   "metadata": {},
   "source": [
    "# Data structures"
   ]
  },
  {
   "cell_type": "markdown",
   "metadata": {},
   "source": [
    "## Quick exercises:\n",
    "In the cell below, complete the following tasks:\n",
    "\n",
    "### Task \\#5 [10%]: Using for-loops to construct the following pattern, using a nested for loop. \n",
    "\n",
    "(*Hints: if a loop exists inside the body of another loop, it's called nested loop; the pirint function ends with a new line by default, but you can print without a newline, see https://www.geeksforgeeks.org/gfact-50-python-end-parameter-in-print/*)\n",
    "\n",
    "                        * \n",
    "                        * *\n",
    "                        * * * \n",
    "                        * * * * \n",
    "                        * * * * * \n",
    "                        * * * * * *\n",
    "                        * * * * * \n",
    "                        * * * * \n",
    "                        * * * \n",
    "                        * * \n",
    "                        *\n",
    "                        "
   ]
  },
  {
   "cell_type": "code",
   "execution_count": 6,
   "metadata": {},
   "outputs": [
    {
     "name": "stdout",
     "output_type": "stream",
     "text": [
      "\n",
      "* \n",
      "* * \n",
      "* * * \n",
      "* * * * \n",
      "* * * * * \n",
      "* * * * * * \n",
      "* * * * * \n",
      "* * * * \n",
      "* * * \n",
      "* * \n",
      "* \n"
     ]
    }
   ],
   "source": [
    "# Your code goes here"
   ]
  },
  {
   "cell_type": "markdown",
   "metadata": {},
   "source": [
    "# Handling data with GNU Utilities on a Linux server.\n",
    "\n",
    "Chances are that the computers you will be using to run your code will be accessible only remotely and through a command line interface (a shell). Thus, instead of simply dealing with datasets on your local computer, like we did in the F17 version of this assignment, let's try to do manipulate the dataset on a linux server using solely GNU utilities that are pretty good at this."
   ]
  },
  {
   "cell_type": "markdown",
   "metadata": {},
   "source": [
    "To start, please find a suitable SSH Client for your operating system. My suggestions are:\n",
    "\n",
    "* Microsoft Windows: [PuTTY](https://www.chiark.greenend.org.uk/~sgtatham/putty/latest.html)\n",
    "* MacOS: OpenSSH Client (which [comes with the OS](https://osxdaily.com/2017/04/28/howto-ssh-client-mac/))\n",
    "* Linux: OpenSSH Client (which also [comes with most linux distributions](https://man.openbsd.org/ssh.1))"
   ]
  },
  {
   "cell_type": "markdown",
   "metadata": {},
   "source": [
    "Once you have that installed, then from a terminal (not from within this Jupyter Notebook) issue the following command (making sure to substitute AndrewID for your actual Andrew ID):\n",
    "\n",
    "```\n",
    "ssh AndrewID@unix.andrew.cmu.edu\n",
    "```"
   ]
  },
  {
   "cell_type": "markdown",
   "metadata": {},
   "source": [
    "If this works, you will be asked for your AndrewID password and then you will be connected to a linux server on CMU campus, available for all faculty and students. Your process should look something like this:\n",
    "\n",
    "```\n",
    "21:54 1> ssh yourandrewid@unix.andrew.cmu.edu\n",
    "yourandrewid@unix.andrew.cmu.edu's password:\n",
    "Last login: Mon Mar 23 21:11:42 2020 from pool-118-17-91-213.pitbpa.fios.verizon.net\n",
    "\t\tWelcome to the Carnegie Mellon University\n",
    "\t\t\tLinux timeshare pool\n",
    "\n",
    "\t\tnow running Red Hat Enterprise Linux 7\n",
    "\n",
    "These machines are a shared resource. Please be considerate of other users.\n",
    "\n",
    "Please note: These machines reboot nightly.\n",
    "\n",
    "You are using 60% (1.1G) of your 1.9G AFS quota.\n",
    "Exceeding your AFS quota will result in failed logins to the Linux workstations in computer labs.\n",
    "\n",
    "[yourandrewid@unix5 ~]$\n",
    "```\n",
    "\n",
    "If that worked for you: congratulations, now you have access to a linux server from anywhere in the world. This becomes especially useful if you are not running a unix-like operating system (e.g., if you are running Microsoft Windows).\n",
    "\n",
    "From here on, however, you can decide whether to run the rest of the commands from within ```unix.andrew.cmu.edu``` or from your computer, so long as your operating system has access to all of the GNU utilities we are going to be making use of."
   ]
  },
  {
   "cell_type": "markdown",
   "metadata": {},
   "source": [
    "## Cloning a repository"
   ]
  },
  {
   "cell_type": "markdown",
   "metadata": {},
   "source": [
    "### Task 6: Clone our course's git repository [20%]\n",
    "\n",
    "In the cell below, using either the \"!\" or \"%bash\" functionality of Jupyter Notebooks, issue a shell command to the git client so that you can clone the course's repository (https://github.com/marioberges/S20-12-752.git).\n",
    "\n",
    "*(I realize that many of you may have already cloned the repository and that is how you got access to this notebook. That said, not all of you will have done that, so please repeat the process here anyway)*"
   ]
  },
  {
   "cell_type": "code",
   "execution_count": 7,
   "metadata": {},
   "outputs": [
    {
     "name": "stdout",
     "output_type": "stream",
     "text": [
      "Cloning into 'S20-12-752'...\n",
      "remote: Enumerating objects: 12, done.\u001b[K\n",
      "remote: Counting objects: 100% (12/12), done.\u001b[K\n",
      "remote: Compressing objects: 100% (9/9), done.\u001b[K\n",
      "remote: Total 12 (delta 0), reused 9 (delta 0), pack-reused 0\u001b[K\n",
      "Unpacking objects: 100% (12/12), 175.47 KiB | 4.18 MiB/s, done.\n"
     ]
    }
   ],
   "source": [
    "# Your code goes here"
   ]
  },
  {
   "cell_type": "markdown",
   "metadata": {},
   "source": [
    "## Extract useful information out of the testdata.txt\n",
    "\n",
    "### Task 7: Navigate to the folder with the file [10%]\n",
    "\n",
    "Now that we have cloned the repository, navigate to the directory where the dataset in question lives (we're talking about the ```testdata.txt``` file that was used in the F17 version of this course. Use the ```cd``` (change directory) command to navigate there. Here, however, you will need to be cautios about your use of \"!\" to change directory. Let's first figure out which directory we are in (i.e., the **p**resent **w**orking **d**irectory)."
   ]
  },
  {
   "cell_type": "code",
   "execution_count": 8,
   "metadata": {},
   "outputs": [
    {
     "data": {
      "text/plain": [
       "'/Users/mberges/Documents/courses/2020/Spring/12-752/assignments/1'"
      ]
     },
     "execution_count": 8,
     "metadata": {},
     "output_type": "execute_result"
    }
   ],
   "source": [
    "%pwd"
   ]
  },
  {
   "cell_type": "code",
   "execution_count": 9,
   "metadata": {},
   "outputs": [
    {
     "name": "stdout",
     "output_type": "stream",
     "text": [
      "/Users/mberges/Documents/courses/2020/Spring/12-752/assignments/1/S20-12-752/assignments/1\n"
     ]
    }
   ],
   "source": [
    "# your Jupyter Notebook shell call goes here"
   ]
  },
  {
   "cell_type": "markdown",
   "metadata": {},
   "source": [
    "And whatever you did in the cell above should have resulted in a new pwd, going directly into the cloned repositry as below:"
   ]
  },
  {
   "cell_type": "code",
   "execution_count": 10,
   "metadata": {},
   "outputs": [
    {
     "data": {
      "text/plain": [
       "'/Users/mberges/Documents/courses/2020/Spring/12-752/assignments/1/S20-12-752/assignments/1'"
      ]
     },
     "execution_count": 10,
     "metadata": {},
     "output_type": "execute_result"
    }
   ],
   "source": [
    "%pwd"
   ]
  },
  {
   "cell_type": "markdown",
   "metadata": {},
   "source": [
    "### Task 8: Using the word count utility ```wc``` count the number of lines that the file has [5%]"
   ]
  },
  {
   "cell_type": "code",
   "execution_count": 11,
   "metadata": {},
   "outputs": [
    {
     "name": "stdout",
     "output_type": "stream",
     "text": [
      "\r\n",
      "WC(1)                     BSD General Commands Manual                    WC(1)\r\n",
      "\r\n",
      "N\bNA\bAM\bME\bE\r\n",
      "     w\bwc\bc -- word, line, character, and byte count\r\n",
      "\r\n",
      "S\bSY\bYN\bNO\bOP\bPS\bSI\bIS\bS\r\n",
      "     w\bwc\bc [-\b-c\bcl\blm\bmw\bw] [_\bf_\bi_\bl_\be _\b._\b._\b.]\r\n",
      "\r\n",
      "D\bDE\bES\bSC\bCR\bRI\bIP\bPT\bTI\bIO\bON\bN\r\n",
      "     The w\bwc\bc utility displays the number of lines, words, and bytes contained\r\n",
      "     in each input _\bf_\bi_\bl_\be, or standard input (if no file is specified) to the\r\n",
      "     standard output.  A line is defined as a string of characters delimited\r\n",
      "     by a <newline> character.  Characters beyond the final <newline> charac-\r\n",
      "     ter will not be included in the line count.\r\n",
      "\r\n",
      "     A word is defined as a string of characters delimited by white space\r\n",
      "     characters.  White space characters are the set of characters for which\r\n",
      "     the iswspace(3) function returns true.  If more than one input file is\r\n",
      "     specified, a line of cumulative counts for all the files is displayed on\r\n",
      "     a separate line after the output for the last file.\r\n",
      "\r\n",
      "     The following options are available:\r\n",
      "\r\n",
      "     -\b-c\bc      The number of bytes in each input file is written to the standard\r\n",
      "             output.  This will cancel out any prior usage of the -\b-m\bm option.\r\n",
      "\r\n",
      "     -\b-l\bl      The number of lines in each input file is written to the standard\r\n",
      "             output.\r\n",
      "\r\n",
      "     -\b-m\bm      The number of characters in each input file is written to the\r\n",
      "             standard output.  If the current locale does not support multi-\r\n",
      "             byte characters, this is equivalent to the -\b-c\bc option.  This will\r\n",
      "             cancel out any prior usage of the -\b-c\bc option.\r\n",
      "\r\n",
      "     -\b-w\bw      The number of words in each input file is written to the standard\r\n",
      "             output.\r\n",
      "\r\n",
      "     When an option is specified, w\bwc\bc only reports the information requested by\r\n",
      "     that option.  The order of output always takes the form of line, word,\r\n",
      "     byte, and file name.  The default action is equivalent to specifying the\r\n",
      "     -\b-c\bc, -\b-l\bl and -\b-w\bw options.\r\n",
      "\r\n",
      "     If no files are specified, the standard input is used and no file name is\r\n",
      "     displayed.  The prompt will accept input until receiving EOF, or [^D] in\r\n",
      "     most environments.\r\n",
      "\r\n",
      "E\bEN\bNV\bVI\bIR\bRO\bON\bNM\bME\bEN\bNT\bT\r\n",
      "     The LANG, LC_ALL and LC_CTYPE environment variables affect the execution\r\n",
      "     of w\bwc\bc as described in environ(7).\r\n",
      "\r\n",
      "E\bEX\bXI\bIT\bT S\bST\bTA\bAT\bTU\bUS\bS\r\n",
      "     The w\bwc\bc utility exits 0 on success, and >0 if an error occurs.\r\n",
      "\r\n",
      "E\bEX\bXA\bAM\bMP\bPL\bLE\bES\bS\r\n",
      "     Count the number of characters, words and lines in each of the files\r\n",
      "     _\br_\be_\bp_\bo_\br_\bt_\b1 and _\br_\be_\bp_\bo_\br_\bt_\b2 as well as the totals for both:\r\n",
      "\r\n",
      "           wc -mlw report1 report2\r\n",
      "\r\n",
      "C\bCO\bOM\bMP\bPA\bAT\bTI\bIB\bBI\bIL\bLI\bIT\bTY\bY\r\n",
      "     Historically, the w\bwc\bc utility was documented to define a word as a ``maxi-\r\n",
      "     mal string of characters delimited by <space>, <tab> or <newline> charac-\r\n",
      "     ters''.  The implementation, however, did not handle non-printing charac-\r\n",
      "     ters correctly so that ``  ^D^E  '' counted as 6 spaces, while\r\n",
      "     ``foo^D^Ebar'' counted as 8 characters.  4BSD systems after 4.3BSD modi-\r\n",
      "     fied the implementation to be consistent with the documentation.  This\r\n",
      "     implementation defines a ``word'' in terms of the iswspace(3) function,\r\n",
      "     as required by IEEE Std 1003.2 (``POSIX.2'').\r\n",
      "\r\n",
      "S\bSE\bEE\bE A\bAL\bLS\bSO\bO\r\n",
      "     iswspace(3)\r\n",
      "\r\n",
      "S\bST\bTA\bAN\bND\bDA\bAR\bRD\bDS\bS\r\n",
      "     The w\bwc\bc utility conforms to IEEE Std 1003.1-2001 (``POSIX.1'').\r\n",
      "\r\n",
      "H\bHI\bIS\bST\bTO\bOR\bRY\bY\r\n",
      "     A w\bwc\bc command appeared in Version 1 AT&T UNIX.\r\n",
      "\r\n",
      "BSD                            February 23, 2005                           BSD\r\n"
     ]
    }
   ],
   "source": [
    "!man wc"
   ]
  },
  {
   "cell_type": "code",
   "execution_count": 12,
   "metadata": {},
   "outputs": [
    {
     "name": "stdout",
     "output_type": "stream",
     "text": [
      "     200 testdata.txt\r\n"
     ]
    }
   ],
   "source": [
    "# Your code goes here"
   ]
  },
  {
   "cell_type": "markdown",
   "metadata": {},
   "source": [
    "### Task 9: Using the ```head``` comand, list the first two rows of the file [5%]"
   ]
  },
  {
   "cell_type": "code",
   "execution_count": 13,
   "metadata": {},
   "outputs": [
    {
     "name": "stdout",
     "output_type": "stream",
     "text": [
      "\r\n",
      "HEAD(1)                   BSD General Commands Manual                  HEAD(1)\r\n",
      "\r\n",
      "N\bNA\bAM\bME\bE\r\n",
      "     h\bhe\bea\bad\bd -- display first lines of a file\r\n",
      "\r\n",
      "S\bSY\bYN\bNO\bOP\bPS\bSI\bIS\bS\r\n",
      "     h\bhe\bea\bad\bd [-\b-n\bn _\bc_\bo_\bu_\bn_\bt | -\b-c\bc _\bb_\by_\bt_\be_\bs] [_\bf_\bi_\bl_\be _\b._\b._\b.]\r\n",
      "\r\n",
      "D\bDE\bES\bSC\bCR\bRI\bIP\bPT\bTI\bIO\bON\bN\r\n",
      "     This filter displays the first _\bc_\bo_\bu_\bn_\bt lines or _\bb_\by_\bt_\be_\bs of each of the speci-\r\n",
      "     fied files, or of the standard input if no files are specified.  If _\bc_\bo_\bu_\bn_\bt\r\n",
      "     is omitted it defaults to 10.\r\n",
      "\r\n",
      "     If more than a single file is specified, each file is preceded by a\r\n",
      "     header consisting of the string ``==> XXX <=='' where ``XXX'' is the name\r\n",
      "     of the file.\r\n",
      "\r\n",
      "E\bEX\bXI\bIT\bT S\bST\bTA\bAT\bTU\bUS\bS\r\n",
      "     The h\bhe\bea\bad\bd utility exits 0 on success, and >0 if an error occurs.\r\n",
      "\r\n",
      "S\bSE\bEE\bE A\bAL\bLS\bSO\bO\r\n",
      "     tail(1)\r\n",
      "\r\n",
      "H\bHI\bIS\bST\bTO\bOR\bRY\bY\r\n",
      "     The h\bhe\bea\bad\bd command appeared in PWB UNIX.\r\n",
      "\r\n",
      "BSD                              June 6, 1993                              BSD\r\n"
     ]
    }
   ],
   "source": [
    "!man head"
   ]
  },
  {
   "cell_type": "code",
   "execution_count": 14,
   "metadata": {},
   "outputs": [
    {
     "name": "stdout",
     "output_type": "stream",
     "text": [
      "4.365597071152245157e+00,4.880347017198527482e+00,5.169525004828095405e+00,5.266681718575210169e+00,5.382485434295041671e+00,5.357626899471115145e+00,5.720864463009703194e+00,6.093395020142804874e+00,5.936446149755028046e+00,6.076836262447884884e+00,5.613077960868746885e+00,5.267872692870751550e+00,5.389090171332224344e+00,5.053303474564257769e+00,4.671061649935541737e+00,4.593510874192727300e+00,5.617595853364431235e+00,7.473292676877001384e+00,9.528141163731076446e+00,1.155022081215454222e+01,1.267533313218382851e+01,1.250307859552625267e+01,1.125387588943433670e+01,8.687826799196354699e+00,5.154046135764547287e+00,2.266509819322518826e+00,-6.799372160040714763e-02,-1.981484692265136571e+00,-2.686450795840678030e+00,-3.573114851592795294e+00,-3.990300565975834157e+00,-3.843582634955709842e+00,-3.827073328936536178e+00,-3.658077867158995744e+00,-3.445696874233995732e+00,-3.173952744646087343e+00,-2.999918949687721881e+00,-3.042280535017492404e+00,-3.344106957708898875e+00,-3.828143963634486724e+00,-4.346966661772589724e+00,-4.772329599999078020e+00,-5.058295591577341987e+00,-5.150077411876231359e+00,-5.202777093809352493e+00,-5.265426808982324403e+00,-5.738544805733402754e+00,-5.936236931889189883e+00,-5.802938838040868852e+00,-5.867720406718244242e+00,-5.339511946963404476e+00,-5.204790930812015048e+00,-5.298144959551749800e+00,-4.914057618244491721e+00,-4.554811385820098479e+00,-4.740116622448551809e+00,-6.222257341143517806e+00,-8.283169716350236911e+00,-1.069160707017419654e+01,-1.280949600578965075e+01,-1.394832041747784857e+01,-1.326871339571147068e+01,-1.108209603283606626e+01,-8.027267993473522267e+00,-4.282098985969441607e+00,-1.504017456285998033e+00,8.009494751515350286e-01,2.394655337122218342e+00,3.048655142218722247e+00,3.932603062792799697e+00,4.069613358037463158e+00,3.930150476618937461e+00,3.862536172469570150e+00,3.702286297757793943e+00,3.492967580550639717e+00,3.255894242776187664e+00,3.107593526409566653e+00,3.256367102212690767e+00,2.870553963147822962e+00,3.153059233911995385e+00\r\n",
      "4.367990125447382965e+00,4.886360652937674409e+00,5.141632025668305239e+00,5.252187928071226253e+00,5.367263727687751285e+00,5.356597340838272103e+00,5.701740702962235119e+00,6.083723038348358259e+00,5.950900159144176804e+00,6.060701155312103516e+00,5.642729244250291210e+00,5.226720500700586136e+00,5.374728142677996701e+00,5.040020515240626331e+00,4.669845625317056381e+00,4.639244238394144126e+00,5.609865863699998734e+00,7.549610792911037649e+00,9.702401251926698222e+00,1.166603328147558116e+01,1.272513382410720695e+01,1.249480101764275730e+01,1.117432525891614326e+01,8.564204657121585740e+00,5.052367918981444994e+00,2.102336265773145918e+00,-2.306243856907168044e-01,-2.095243682914485817e+00,-2.671958053967819158e+00,-3.492319233545748691e+00,-4.003030862052390226e+00,-3.862451436095786672e+00,-3.836833244839386925e+00,-3.654086352410206295e+00,-3.426829846622668541e+00,-3.160996743923746521e+00,-2.997299130747272944e+00,-3.052799387748821758e+00,-3.365115005890417343e+00,-3.841942707998541096e+00,-4.373635646308188463e+00,-4.766432986514119285e+00,-5.071729744729977618e+00,-5.150328100907358930e+00,-5.193757253855758371e+00,-5.268448363801311096e+00,-5.741040442759943296e+00,-5.939513879297720678e+00,-5.812505383633054024e+00,-5.869521580773747083e+00,-5.322956955878293428e+00,-5.200127221210793849e+00,-5.307096096401218155e+00,-4.893478588238815874e+00,-4.581565203096925387e+00,-4.777169299413138503e+00,-6.174956567348765191e+00,-8.403707753777934997e+00,-1.081030232724526563e+01,-1.283319297619963706e+01,-1.394154523551699576e+01,-1.319864423389028474e+01,-1.098205760172246670e+01,-7.902692361161509638e+00,-4.192415434726583179e+00,-1.340103124458687400e+00,9.419148417687686070e-01,2.474495842391881251e+00,2.980756614133487137e+00,3.849757590161118515e+00,4.075335883880081056e+00,3.926750572724333477e+00,3.869516384402448050e+00,3.698046769293185765e+00,3.473321232300448980e+00,3.235793742372772286e+00,3.091154591698308529e+00,3.263624303059944332e+00,2.897751735551405083e+00,3.149446304178326272e+00\r\n"
     ]
    }
   ],
   "source": [
    "# Your code goes here"
   ]
  },
  {
   "cell_type": "markdown",
   "metadata": {},
   "source": [
    "### Task 10: Using the ```cut``` comand, list the second and fourth columns of the file [5%]"
   ]
  },
  {
   "cell_type": "code",
   "execution_count": 15,
   "metadata": {},
   "outputs": [
    {
     "name": "stdout",
     "output_type": "stream",
     "text": [
      "\n",
      "CUT(1)                    BSD General Commands Manual                   CUT(1)\n",
      "\n",
      "NAME\n",
      "     cut -- cut out selected portions of each line of a file\n",
      "\n",
      "SYNOPSIS\n",
      "     cut -b list [-n] [file ...]\n",
      "     cut -c list [file ...]\n",
      "     cut -f list [-d delim] [-s] [file ...]\n",
      "\n",
      "DESCRIPTION\n",
      "     The cut utility cuts out selected portions of each line (as specified by\n",
      "     list) from each file and writes them to the standard output.  If no file\n",
      "     arguments are specified, or a file argument is a single dash (`-'), cut\n",
      "     reads from the standard input.  The items specified by list can be in\n",
      "     terms of column position or in terms of fields delimited by a special\n",
      "     character.  Column numbering starts from 1.\n",
      "\n",
      "     The list option argument is a comma or whitespace separated set of num-\n",
      "     bers and/or number ranges.  Number ranges consist of a number, a dash\n",
      "     (`-'), and a second number and select the fields or columns from the\n",
      "     first number to the second, inclusive.  Numbers or number ranges may be\n",
      "     preceded by a dash, which selects all fields or columns from 1 to the\n",
      "     last number.  Numbers or number ranges may be followed by a dash, which\n",
      "     selects all fields or columns from the last number to the end of the\n",
      "     line.  Numbers and number ranges may be repeated, overlapping, and in any\n",
      "     order.  If a field or column is specified multiple times, it will appear\n",
      "     only once in the output.  It is not an error to select fields or columns\n",
      "     not present in the input line.\n",
      "\n",
      "     The options are as follows:\n",
      "\n",
      "     -b list\n",
      "             The list specifies byte positions.\n",
      "\n",
      "     -c list\n",
      "             The list specifies character positions.\n",
      "\n",
      "     -d delim\n",
      "             Use delim as the field delimiter character instead of the tab\n",
      "             character.\n",
      "\n",
      "     -f list\n",
      "             The list specifies fields, separated in the input by the field\n",
      "             delimiter character (see the -d option.)  Output fields are sepa-\n",
      "             rated by a single occurrence of the field delimiter character.\n",
      "\n",
      "     -n      Do not split multi-byte characters.  Characters will only be out-\n",
      "             put if at least one byte is selected, and, after a prefix of zero\n",
      "             or more unselected bytes, the rest of the bytes that form the\n",
      "             character are selected.\n",
      "\n",
      "     -s      Suppress lines with no field delimiter characters.  Unless speci-\n",
      "             fied, lines with no delimiters are passed through unmodified.\n",
      "\n",
      "ENVIRONMENT\n",
      "     The LANG, LC_ALL and LC_CTYPE environment variables affect the execution\n",
      "     of cut as described in environ(7).\n",
      "\n",
      "EXIT STATUS\n",
      "     The cut utility exits 0 on success, and >0 if an error occurs.\n",
      "\n",
      "EXAMPLES\n",
      "     Extract users' login names and shells from the system passwd(5) file as\n",
      "     ``name:shell'' pairs:\n",
      "\n",
      "           cut -d : -f 1,7 /etc/passwd\n",
      "\n",
      "     Show the names and login times of the currently logged in users:\n",
      "\n",
      "           who | cut -c 1-16,26-38\n",
      "\n",
      "SEE ALSO\n",
      "     colrm(1), paste(1)\n",
      "\n",
      "STANDARDS\n",
      "     The cut utility conforms to IEEE Std 1003.2-1992 (``POSIX.2'').\n",
      "\n",
      "HISTORY\n",
      "     A cut command appeared in AT&T System III UNIX.\n",
      "\n",
      "BSD                            December 21, 2006                           BSD\n"
     ]
    }
   ],
   "source": [
    "!man cut"
   ]
  },
  {
   "cell_type": "code",
   "execution_count": 16,
   "metadata": {},
   "outputs": [
    {
     "name": "stdout",
     "output_type": "stream",
     "text": [
      "4.880347017198527482e+00,5.266681718575210169e+00\r\n",
      "4.886360652937674409e+00,5.252187928071226253e+00\r\n",
      "4.869635507273115671e+00,5.265892101403420789e+00\r\n",
      "4.813981122124091350e+00,5.214981864371941001e+00\r\n",
      "4.793573898644201137e+00,5.193265535334289140e+00\r\n",
      "4.805197720938985562e+00,5.219410571601899029e+00\r\n",
      "4.786839134875097379e+00,5.157330080376579140e+00\r\n",
      "4.772387460018346239e+00,5.177712208568938657e+00\r\n",
      "4.793746536711235962e+00,5.186731565627851204e+00\r\n",
      "4.834809265013205071e+00,5.197524341942725279e+00\r\n",
      "4.808726250813616154e+00,5.228786084290451441e+00\r\n",
      "4.769585197015032030e+00,5.207588362846578001e+00\r\n",
      "4.790323711523382322e+00,5.225140903500594902e+00\r\n",
      "4.766152397281446795e+00,5.240928609861260412e+00\r\n",
      "4.704278480509443305e+00,5.168280986768428065e+00\r\n",
      "4.717420376058567122e+00,5.195667801182412227e+00\r\n",
      "4.716012500901714866e+00,5.184121910281019652e+00\r\n",
      "4.725811980370480114e+00,5.214398127236063551e+00\r\n",
      "4.746969764572969375e+00,5.166732661403280247e+00\r\n",
      "4.825823193375117448e+00,5.190661763969621312e+00\r\n",
      "4.775459670678564805e+00,5.226651987742512162e+00\r\n",
      "4.861615300304685583e+00,5.186998840939544664e+00\r\n",
      "4.808975617512102119e+00,5.164364648829804949e+00\r\n",
      "4.840180021149991241e+00,5.139888307464111961e+00\r\n",
      "4.847637343043115443e+00,5.118192710694124514e+00\r\n",
      "4.779118728667127058e+00,5.124577399103469766e+00\r\n",
      "4.718991285032092087e+00,5.171402779288794882e+00\r\n",
      "4.815434530267123314e+00,5.253884984212128906e+00\r\n",
      "4.851575263897465184e+00,5.219990644754773257e+00\r\n",
      "4.854469559121344702e+00,5.195773275211624131e+00\r\n",
      "4.796815997454330294e+00,5.166353612001513440e+00\r\n",
      "4.803301311089726688e+00,5.178274721236460820e+00\r\n",
      "4.791317172041409833e+00,5.186577763103264793e+00\r\n",
      "4.769320513126951155e+00,5.178715761679845819e+00\r\n",
      "4.803949078832738806e+00,5.195811169354327852e+00\r\n",
      "4.822764755452575436e+00,5.194325749668098346e+00\r\n",
      "4.806734545788764024e+00,5.198708152200667065e+00\r\n",
      "4.814370267433414341e+00,5.191480077865435305e+00\r\n",
      "4.784342308991036852e+00,5.168727180658552633e+00\r\n",
      "4.788597855184285379e+00,5.175957167925406388e+00\r\n",
      "4.777328141615187818e+00,5.151971313933429109e+00\r\n",
      "4.757232558901232089e+00,5.154866604299315647e+00\r\n",
      "4.762074261836685807e+00,5.160835034310120584e+00\r\n",
      "4.750492189677698818e+00,5.144138938765293823e+00\r\n",
      "4.733976671144270121e+00,5.130935985373283437e+00\r\n",
      "4.715193150453774074e+00,5.120487444670105859e+00\r\n",
      "4.738225061943521332e+00,5.130931454476394649e+00\r\n",
      "4.749984483313641981e+00,5.128015851660832070e+00\r\n",
      "4.751913649483767266e+00,5.141923355258365191e+00\r\n",
      "4.746952271434042636e+00,5.145039939959094255e+00\r\n",
      "4.773374716932358375e+00,5.158822676445323552e+00\r\n",
      "4.749281876105752254e+00,5.172504137407842428e+00\r\n",
      "4.772099304720751611e+00,5.168032457417002234e+00\r\n",
      "4.758375012925879055e+00,5.160603534494779154e+00\r\n",
      "4.786407905868554025e+00,5.177063973120482387e+00\r\n",
      "4.782368503741197152e+00,5.167594652551316337e+00\r\n",
      "4.802512724689128376e+00,5.200351885883513603e+00\r\n",
      "4.786257510234654511e+00,5.194865844959284829e+00\r\n",
      "4.753361705170871865e+00,5.182397364860494626e+00\r\n",
      "4.737459015604466472e+00,5.158498233234063868e+00\r\n",
      "4.737377978626180486e+00,5.144629386047713915e+00\r\n",
      "4.740504656222278790e+00,5.146962993737391301e+00\r\n",
      "4.732579278617588869e+00,5.142364540353877800e+00\r\n",
      "4.769875038860543981e+00,5.157711975186300535e+00\r\n",
      "4.777136245878703669e+00,5.163154160756550759e+00\r\n",
      "4.762418157124721496e+00,5.200870919884744481e+00\r\n",
      "4.743062772473416011e+00,5.182422748501450016e+00\r\n",
      "4.747125252101932702e+00,5.183053179794122833e+00\r\n",
      "4.722627215432456005e+00,5.164399026588410990e+00\r\n",
      "4.749135317728336858e+00,5.157309057060087909e+00\r\n",
      "4.735674253478703299e+00,5.170483401182633720e+00\r\n",
      "4.762994315183332716e+00,5.162112353797713382e+00\r\n",
      "4.741360881689044682e+00,5.152793780832830350e+00\r\n",
      "4.760187747935475500e+00,5.170439651103999168e+00\r\n",
      "4.772923702627319464e+00,5.154655688601386565e+00\r\n",
      "4.760457685092597480e+00,5.153559836708579311e+00\r\n",
      "4.764345110753621881e+00,5.137544873530810463e+00\r\n",
      "4.771972265220688847e+00,5.165274161888488536e+00\r\n",
      "4.752345150175171007e+00,5.159016438498587931e+00\r\n",
      "4.728088689997506755e+00,5.152023990410172338e+00\r\n",
      "4.741797081738112318e+00,5.149370478830019415e+00\r\n",
      "4.734729256678938292e+00,5.153031815293714679e+00\r\n",
      "4.737325746201599408e+00,5.151909726884158935e+00\r\n",
      "4.738467716773857141e+00,5.152376743827478123e+00\r\n",
      "4.739206860597613868e+00,5.140348057471325838e+00\r\n",
      "4.722727025221507446e+00,5.127590302848068937e+00\r\n",
      "4.730620145310952651e+00,5.139869029920300036e+00\r\n",
      "4.713461168267476964e+00,5.126765004655314151e+00\r\n",
      "4.727615101410052922e+00,5.134385959531243770e+00\r\n",
      "4.716850348102904711e+00,5.142395196410754821e+00\r\n",
      "4.723510772093837851e+00,5.161712564976585149e+00\r\n",
      "4.716207056864013758e+00,5.155507177836792465e+00\r\n",
      "4.716603386575764389e+00,5.136540423953848133e+00\r\n",
      "4.722828442843243657e+00,5.130110047253081618e+00\r\n",
      "4.729962170473795524e+00,5.181410874169777969e+00\r\n",
      "4.742048670543356437e+00,5.160479267010386728e+00\r\n",
      "4.748043362435946158e+00,5.167370334659792341e+00\r\n",
      "4.786886210632613547e+00,5.183946919970522593e+00\r\n",
      "4.793111083465540823e+00,5.171697702846157263e+00\r\n",
      "4.783186525548623891e+00,5.184717303738279881e+00\r\n",
      "4.777972999167401369e+00,5.185710136419201532e+00\r\n",
      "4.763122044960263146e+00,5.168731332291499392e+00\r\n",
      "4.761979723160187916e+00,5.168730688753533364e+00\r\n",
      "4.765255024304883236e+00,5.156453025145848024e+00\r\n",
      "4.770550289561145796e+00,5.176479812335555764e+00\r\n",
      "4.802829447428538678e+00,5.187259011617135762e+00\r\n",
      "4.769818535969535311e+00,5.161481804926061123e+00\r\n",
      "4.765315099656735498e+00,5.156146245277415829e+00\r\n",
      "4.738703054857702490e+00,5.138430773562011389e+00\r\n",
      "4.738618941391017358e+00,5.125572205493561739e+00\r\n",
      "4.752346527181096292e+00,5.107486682112087450e+00\r\n",
      "4.743949337340076511e+00,5.120458141444129474e+00\r\n",
      "4.758962050386305265e+00,5.110035224158357536e+00\r\n",
      "4.763665127726496529e+00,5.136664007425216560e+00\r\n",
      "4.762148984482213798e+00,5.121412599587356063e+00\r\n",
      "4.769307551582000926e+00,5.137985255112106131e+00\r\n",
      "4.744802513103606678e+00,5.148050709232913746e+00\r\n",
      "4.759140340708737149e+00,5.139416173322261194e+00\r\n",
      "4.784767820390191773e+00,5.161296264191444827e+00\r\n",
      "4.760711312879243096e+00,5.133578452300785244e+00\r\n",
      "4.759907674189242321e+00,5.147131277003436090e+00\r\n",
      "4.770637621645856363e+00,5.168808874529719155e+00\r\n",
      "4.762231598587502113e+00,5.144496445250164030e+00\r\n",
      "4.730505553709252631e+00,5.141543370176997030e+00\r\n",
      "4.728638220331355946e+00,5.118879767615512222e+00\r\n",
      "4.759673686571227691e+00,5.110077563585891269e+00\r\n",
      "4.776179415566552677e+00,5.111327441994995446e+00\r\n",
      "4.758671719762658014e+00,5.101095768172916323e+00\r\n",
      "4.772256748509589031e+00,5.103048329575883280e+00\r\n",
      "4.742134133363466120e+00,5.157929899193555379e+00\r\n",
      "4.798111455417059190e+00,5.157046891226819696e+00\r\n",
      "4.816791339480451128e+00,5.133375203527722697e+00\r\n",
      "4.802401908606801051e+00,5.153371450618349670e+00\r\n",
      "4.790836989159459769e+00,5.133275786041208377e+00\r\n",
      "4.791084938461295017e+00,5.134263804058558200e+00\r\n",
      "4.784710970605718039e+00,5.145096702410267397e+00\r\n",
      "4.789088516675263030e+00,5.145902940501096090e+00\r\n",
      "4.772764356133557762e+00,5.148994585985668060e+00\r\n",
      "4.768388420725813148e+00,5.128659174690323397e+00\r\n",
      "4.781013177007121584e+00,5.150589470992241736e+00\r\n",
      "4.797194038439306141e+00,5.129814085871790219e+00\r\n",
      "4.790837133175622320e+00,5.155142893849251173e+00\r\n",
      "4.786161401780277380e+00,5.132631410877043443e+00\r\n",
      "4.769064776818455087e+00,5.110702143120527730e+00\r\n",
      "4.776801909794631484e+00,5.121608388011844148e+00\r\n",
      "4.783452057278210212e+00,5.134432633630759746e+00\r\n",
      "4.757508390559293865e+00,5.123175356995869123e+00\r\n",
      "4.760507457762408912e+00,5.107254875437972963e+00\r\n",
      "4.760332131088685692e+00,5.124309321052765043e+00\r\n",
      "4.751779307033936028e+00,5.120446390547225946e+00\r\n",
      "4.766238761264999901e+00,5.139323307222182891e+00\r\n",
      "4.773094154118622257e+00,5.150307092649380358e+00\r\n",
      "4.780875488253598427e+00,5.139126969381653254e+00\r\n",
      "4.765875309969255014e+00,5.122021790943049879e+00\r\n",
      "4.777623403581719330e+00,5.134320066191959242e+00\r\n",
      "4.775764309027813681e+00,5.142210854859592395e+00\r\n",
      "4.538924770962862176e+00,4.889264587159960485e+00\r\n",
      "4.564764856122438097e+00,4.935169909942546340e+00\r\n",
      "4.612855623322248633e+00,5.003209176756373999e+00\r\n",
      "4.650610084332550187e+00,5.023653502298173201e+00\r\n",
      "4.661885005328223031e+00,5.033768681792745170e+00\r\n",
      "4.670352282222278717e+00,5.040556773822384429e+00\r\n",
      "4.678787098368811570e+00,5.043477722404011487e+00\r\n",
      "4.695994785882350087e+00,5.070737088436009898e+00\r\n",
      "4.692598824280073799e+00,5.075911035048191522e+00\r\n",
      "4.638449311287190291e+00,5.078259597819549498e+00\r\n",
      "4.648849483844843533e+00,5.073915699825279013e+00\r\n",
      "4.623921199701220175e+00,5.058816243506632837e+00\r\n",
      "4.643910541595062114e+00,5.074523941203358035e+00\r\n",
      "4.653286090749880088e+00,5.096803020400108686e+00\r\n",
      "4.696367624384795825e+00,5.137832875291116430e+00\r\n",
      "4.717643473092963724e+00,5.137031731704118087e+00\r\n",
      "4.705355446389615004e+00,5.144324500476010975e+00\r\n",
      "4.714774121764313541e+00,5.140507980110985642e+00\r\n",
      "4.725465972947368698e+00,5.172192510450995151e+00\r\n",
      "4.728880437217736876e+00,5.160752665151544960e+00\r\n",
      "4.732802279293661485e+00,5.146084043969394450e+00\r\n",
      "4.725313067546763612e+00,5.130447971065195567e+00\r\n",
      "4.700067469607727588e+00,5.124504877557265026e+00\r\n",
      "4.694224159406291896e+00,5.140576576818586929e+00\r\n",
      "4.719319898808442382e+00,5.147814706440287935e+00\r\n",
      "4.737438824926520908e+00,5.155527957206384571e+00\r\n",
      "4.727569119582090806e+00,5.148072539698798522e+00\r\n",
      "4.736498390920575119e+00,5.155400600695306146e+00\r\n",
      "4.764754144006402292e+00,5.175086770661601498e+00\r\n",
      "4.749480255271015139e+00,5.180804220716789033e+00\r\n",
      "4.746221018930819824e+00,5.168726214749453263e+00\r\n",
      "4.735007220676155981e+00,5.157651862085988803e+00\r\n",
      "4.736613255353084639e+00,5.171794969023864041e+00\r\n",
      "4.712896938530844793e+00,5.153616705349343796e+00\r\n",
      "4.720878988349944017e+00,5.156977878845379948e+00\r\n",
      "4.739822545111183949e+00,5.176229632699773653e+00\r\n",
      "4.754323009406326683e+00,5.162723711350160727e+00\r\n",
      "4.742033179990204239e+00,5.167077855883923654e+00\r\n",
      "4.763456151668989058e+00,5.176795435785049193e+00\r\n",
      "4.733068909515079525e+00,5.161225509028531278e+00\r\n",
      "4.719096934051327352e+00,5.167860415825239251e+00\r\n",
      "4.738884979851063939e+00,5.172788033158614240e+00\r\n",
      "4.757799590703708503e+00,5.180292212316067513e+00\r\n",
      "4.772965770598438517e+00,5.163820410619164747e+00\r\n"
     ]
    }
   ],
   "source": [
    "# Your code goes here"
   ]
  },
  {
   "cell_type": "markdown",
   "metadata": {},
   "source": [
    "### Task 10: Combine ```head``` and ```cut``` to show the first two lines of the second and fourth columns of the dataset [5%]"
   ]
  },
  {
   "cell_type": "markdown",
   "metadata": {},
   "source": [
    "*Hint: you can combine them using pipes. See, for example, [here](https://docs.ycrc.yale.edu/PIL/04-pipefilter/).*"
   ]
  },
  {
   "cell_type": "code",
   "execution_count": 17,
   "metadata": {},
   "outputs": [
    {
     "name": "stdout",
     "output_type": "stream",
     "text": [
      "4.880347017198527482e+00,5.266681718575210169e+00\r\n",
      "4.886360652937674409e+00,5.252187928071226253e+00\r\n"
     ]
    }
   ],
   "source": [
    "# Your code goes here"
   ]
  },
  {
   "cell_type": "markdown",
   "metadata": {},
   "source": [
    "## Data Normalization:\n",
    "\n",
    "Assume you have a dataset X, which has N rows (entries) and D columns (features). X[:,i] represents feature i and X[j,:] represent entry j. We define Min-Max Normalization as \n",
    "\n",
    "$~ ~ X[:, i] = \\frac{X[:, i] - \\min(X[i, :])}{\\max(X[:, i]) - \\min(X[i, :])}$"
   ]
  },
  {
   "cell_type": "markdown",
   "metadata": {},
   "source": [
    "Let's start with the same dataset we had in the F17 version of this assignment, and import it in the same way we had done then"
   ]
  },
  {
   "cell_type": "code",
   "execution_count": 18,
   "metadata": {},
   "outputs": [],
   "source": [
    "f = open('testdata.txt')\n",
    "parsed_lines = []\n",
    "for line in f:\n",
    "    l = line.split(',') #create a list by splitting the string line at every ','\n",
    "    l = [float(x) for x in l] #in-line for-loop that casts strings to floats\n",
    "    parsed_lines.append(l)\n",
    "\n",
    "data_matrix = np.array(parsed_lines)"
   ]
  },
  {
   "cell_type": "code",
   "execution_count": 19,
   "metadata": {},
   "outputs": [
    {
     "name": "stdout",
     "output_type": "stream",
     "text": [
      "(200, 80)\n"
     ]
    }
   ],
   "source": [
    "print(data_matrix.shape) #shows the dimensions of the data_matrix, 200 rows, 80 columns"
   ]
  },
  {
   "cell_type": "markdown",
   "metadata": {},
   "source": [
    "### Task \\#12 [15%]:  Apply Min-Max normalization on data_matrix we defined before and print the 6 first columns of the 10 first rows of data_matrix after normalization."
   ]
  },
  {
   "cell_type": "code",
   "execution_count": 20,
   "metadata": {},
   "outputs": [
    {
     "name": "stdout",
     "output_type": "stream",
     "text": [
      "[[0.99283794 0.98269138 1.         1.         1.         0.95487074]\n",
      " [1.         1.         0.92989441 0.96159742 0.96457645 0.95231143]\n",
      " [0.88047746 0.9518612  0.87805896 0.99790784 0.90424263 0.9551236 ]\n",
      " [0.88160478 0.79167514 0.83789637 0.86301667 0.87538903 0.88258368]\n",
      " [0.69003306 0.73293848 0.7632447  0.80547734 0.84054173 0.72116025]\n",
      " [0.71165452 0.7663945  0.70827424 0.87475092 0.79952669 0.85421973]\n",
      " [0.55972816 0.71355429 0.77324276 0.71026318 0.86449079 0.60376323]\n",
      " [0.88458512 0.67195906 0.74870268 0.76426743 0.79660415 0.72648371]\n",
      " [0.86234493 0.73343537 0.6543019  0.78816501 0.71423329 0.82263861]\n",
      " [0.8056256  0.8516233  0.65899653 0.81676143 0.76739207 0.8564889 ]]\n"
     ]
    }
   ],
   "source": [
    "# Your code goes here"
   ]
  },
  {
   "cell_type": "markdown",
   "metadata": {},
   "source": [
    "# DON'T FORGET: Save the Jupyter notebook as a Notebook (.ipynb) and submit it via Canvas."
   ]
  }
 ],
 "metadata": {
  "anaconda-cloud": {},
  "kernelspec": {
   "display_name": "Python 3",
   "language": "python",
   "name": "python3"
  },
  "language_info": {
   "codemirror_mode": {
    "name": "ipython",
    "version": 3
   },
   "file_extension": ".py",
   "mimetype": "text/x-python",
   "name": "python",
   "nbconvert_exporter": "python",
   "pygments_lexer": "ipython3",
   "version": "3.7.6"
  }
 },
 "nbformat": 4,
 "nbformat_minor": 1
}
